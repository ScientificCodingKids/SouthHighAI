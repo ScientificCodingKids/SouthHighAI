{
 "cells": [
  {
   "cell_type": "code",
   "execution_count": 58,
   "id": "394c3ad1",
   "metadata": {},
   "outputs": [],
   "source": [
    "# create animation on real-time updating data\n",
    "\n",
    "import pandas as pd\n",
    "import numpy as np\n",
    "import traceback as tb\n",
    "import time\n",
    "\n",
    "import plotly.graph_objects as go\n"
   ]
  },
  {
   "cell_type": "code",
   "execution_count": null,
   "id": "99c53e44",
   "metadata": {},
   "outputs": [],
   "source": []
  },
  {
   "cell_type": "markdown",
   "id": "7611e7c4",
   "metadata": {},
   "source": [
    "# Linear regression (on 2-variable function)"
   ]
  },
  {
   "cell_type": "code",
   "execution_count": 110,
   "id": "4eff2946",
   "metadata": {},
   "outputs": [],
   "source": [
    "# XOR function -- along with NAND (Not-and), OR, AND\n",
    "# truth tables\n",
    "\n",
    "\n",
    "# input variable values on training data\n",
    "\n",
    "train_data = np.array(\n",
    "    [\n",
    "        [0, 0],\n",
    "        [0, 1],\n",
    "        [1, 0],\n",
    "        [1, 1]])\n",
    "\n",
    "# output variable values on training data -- pick one to train a specific function\n",
    "\n",
    "# for this example, there is NO separate testing data (input only has finite (4) possibilities)\n",
    "\n",
    "# it is a huge blow to perceptron based method as it cannot even behave on training data (untrainable)!\n",
    "\n",
    "# note this is an inheritent issue of the model, not an issue of a particular training method.\n",
    "\n",
    "target_xor = np.array(\n",
    "    [\n",
    "        [0],\n",
    "        [1],\n",
    "        [1],\n",
    "        [0]])\n",
    "\n",
    "target_nand = np.array(\n",
    "    [\n",
    "        [1],\n",
    "        [1],\n",
    "        [1],\n",
    "        [0]])\n",
    "\n",
    "target_or = np.array(\n",
    "    [\n",
    "        [0],\n",
    "        [1],\n",
    "        [1],\n",
    "        [1]])\n",
    "\n",
    "target_and = np.array(\n",
    "    [\n",
    "        [0],\n",
    "        [0],\n",
    "        [0],\n",
    "        [1]])\n",
    "\n",
    "target_first = np.array(\n",
    "    [\n",
    "        [1],\n",
    "        [1],\n",
    "        [0],\n",
    "        [0]\n",
    "        \n",
    "    ])"
   ]
  },
  {
   "cell_type": "markdown",
   "id": "42999531",
   "metadata": {},
   "source": [
    "## Perceptron class"
   ]
  },
  {
   "cell_type": "code",
   "execution_count": 106,
   "id": "9f29f035",
   "metadata": {},
   "outputs": [],
   "source": [
    "from itertools import cycle\n",
    "\n",
    "# original code is See https://towardsdatascience.com/how-neural-networks-solve-the-xor-problem-59763136bdd7\n",
    "# we added visualization\n",
    "color_scale = [[0., 'gold'], [0.5, 'mediumturquoise'], [1., 'lightsalmon']]\n",
    "class Perceptron:\n",
    "    \"\"\"\n",
    "    Create a perceptron.\n",
    "    train_data: A 4x2 matrix with the input data.\n",
    "    target: A 4x1 matrix with the perceptron's expected outputs\n",
    "    lr: the learning rate. Defaults to 0.01\n",
    "    input_nodes: the number of nodes in the input layer of the perceptron.\n",
    "        Should be equal to the second dimension of train_data.\n",
    "    \"\"\"\n",
    "\n",
    "    def __init__(self, train_data, target, lr=0.01, input_nodes=2, h=0.01, fig=None):\n",
    "        self.train_data = train_data\n",
    "        self.target = target\n",
    "        self.lr = lr\n",
    "        self.input_nodes = input_nodes\n",
    "\n",
    "        # randomly initialize the weights and set the bias to -1.\n",
    "        self.w = np.random.uniform(size=self.input_nodes)\n",
    "        self.b = -1\n",
    "\n",
    "        # node_val hold the values of each node at a given point of time.\n",
    "        self.node_val = np.zeros(self.input_nodes)\n",
    "\n",
    "        self.fig = fig # go.Figure()\n",
    "        \n",
    "        self.x_range = np.arange(-0.1, 1.1, h)\n",
    "        self.y_range = np.arange(-0.1, 1.1, h)\n",
    "\n",
    "        # creating a mesh to plot decision boundary\n",
    "        xx, yy = np.meshgrid(self.x_range, self.y_range, indexing='ij')\n",
    "        Z = np.array([[self.classify([x, y]) for x in self.x_range] for y in self.y_range])\n",
    "        self.trace_contour = go.Contour(\n",
    "            z=Z, colorscale=color_scale, x=self.x_range, y=self.y_range\n",
    "        )\n",
    "        # using the contourf function to create the plot\n",
    "        self.fig.add_trace(self.trace_contour)\n",
    "        \n",
    "        self.fig.update_layout(title = f\"w={self.w}, b={self.b}\")\n",
    "        \n",
    "        \n",
    "        display(self.fig)\n",
    "\n",
    "        \n",
    "    def _gradient(self, node, exp, output):\n",
    "        \"\"\"\n",
    "        Return the gradient for a weight.\n",
    "        This is the value of delta-w.\n",
    "        \"\"\"\n",
    "        return node * (exp - output)\n",
    "\n",
    "    def update_weights(self, exp, output):\n",
    "        \"\"\"\n",
    "        Update weights and bias based on their respective gradients\n",
    "        \"\"\"\n",
    "        for i in range(self.input_nodes):\n",
    "            self.w[i] += self.lr * self._gradient(self.node_val[i], exp, output)\n",
    "\n",
    "        # the value of the bias node can be considered as being 1 and the weight between this node\n",
    "        # and the output node being self.b\n",
    "        self.b += self.lr * self._gradient(1, exp, output)\n",
    "\n",
    "    def forward(self, datapoint):\n",
    "        \"\"\"\n",
    "        One forward pass through the perceptron.\n",
    "        Implementation of \"wX + b\".\n",
    "        \"\"\"\n",
    "        return self.b + np.dot(self.w, datapoint)\n",
    "\n",
    "    def classify(self, datapoint):\n",
    "        \"\"\"\n",
    "        Return the class to which a datapoint belongs based on\n",
    "        the perceptron's output for that point.\n",
    "        \"\"\"\n",
    "        if self.forward(datapoint) >= 0:\n",
    "            return 1\n",
    "\n",
    "        return 0\n",
    "    \n",
    "\n",
    "    def train(self, max_iters=100):\n",
    "        \"\"\"\n",
    "        Train a single layer perceptron.\n",
    "        \"\"\"\n",
    "        # the number of consecutive correct classifications\n",
    "        correct_counter = 0\n",
    "\n",
    "        n_iters = 0 # number of training data points seen\n",
    "        \n",
    "        for train, target in cycle(zip(self.train_data, self.target)):\n",
    "            # end if all points are correctly classified\n",
    "            #print(f\"start {n_iters}\")\n",
    "            if correct_counter == len(self.train_data) or n_iters == max_iters:\n",
    "                print(\"quit\")\n",
    "                break\n",
    "\n",
    "            n_iters += 1\n",
    "            \n",
    "            output = self.classify(train)\n",
    "            self.node_val = train\n",
    "\n",
    "            if output == target:\n",
    "                correct_counter += 1\n",
    "            else:\n",
    "                # if incorrectly classified, update weights and reset correct_counter\n",
    "                self.update_weights(target, output)\n",
    "                correct_counter = 0\n",
    "        \n",
    "            if n_iters > 0:\n",
    "                # Z = np.array([[ 1./ (1. + np.exp(self.forward([x, y])) ) for x in self.x_range] for y in self.y_range])\n",
    "                Z = np.array([[ self.classify([x, y]) for x in self.x_range] for y in self.y_range])\n",
    "\n",
    "                #self.fig.update_traces(z=Z)\n",
    "                #self.fig.update_layout(title = f\"w={self.w}, b={self.b}, n_iters={n_iters}\")\n",
    "\n",
    "                #print(f\"iter: {n_iters}, w= {self.w}\")\n",
    "                with self.fig.batch_update():\n",
    "                    self.fig.data[0].z = Z\n",
    "                    self.fig.layout.title = f\"w={self.w}, b={self.b}, n_iters={n_iters}, cumulative success={correct_counter}\"\n",
    "                \n",
    "                time.sleep(0.02)"
   ]
  },
  {
   "cell_type": "markdown",
   "id": "7d9a4292",
   "metadata": {},
   "source": [
    "## train the XOR function"
   ]
  },
  {
   "cell_type": "code",
   "execution_count": 107,
   "id": "a955e5c4",
   "metadata": {},
   "outputs": [
    {
     "data": {
      "application/vnd.jupyter.widget-view+json": {
       "model_id": "b1cfc02006874d64b405fc65c5d6bce5",
       "version_major": 2,
       "version_minor": 0
      },
      "text/plain": [
       "FigureWidget({\n",
       "    'data': [{'colorscale': [[0.0, 'gold'], [0.5, 'mediumturquoise'], [1.0,\n",
       "                             'lightsalmon']],\n",
       "              'type': 'contour',\n",
       "              'uid': '0b89061d-6b55-47f4-aa12-9a8d3ab7bccb',\n",
       "              'x': array([-1.00000000e-01, -9.00000000e-02, -8.00000000e-02, -7.00000000e-02,\n",
       "                          -6.00000000e-02, -5.00000000e-02, -4.00000000e-02, -3.00000000e-02,\n",
       "                          -2.00000000e-02, -1.00000000e-02, -5.55111512e-17,  1.00000000e-02,\n",
       "                           2.00000000e-02,  3.00000000e-02,  4.00000000e-02,  5.00000000e-02,\n",
       "                           6.00000000e-02,  7.00000000e-02,  8.00000000e-02,  9.00000000e-02,\n",
       "                           1.00000000e-01,  1.10000000e-01,  1.20000000e-01,  1.30000000e-01,\n",
       "                           1.40000000e-01,  1.50000000e-01,  1.60000000e-01,  1.70000000e-01,\n",
       "                           1.80000000e-01,  1.90000000e-01,  2.00000000e-01,  2.10000000e-01,\n",
       "                           2.20000000e-01,  2.30000000e-01,  2.40000000e-01,  2.50000000e-01,\n",
       "                           2.60000000e-01,  2.70000000e-01,  2.80000000e-01,  2.90000000e-01,\n",
       "                           3.00000000e-01,  3.10000000e-01,  3.20000000e-01,  3.30000000e-01,\n",
       "                           3.40000000e-01,  3.50000000e-01,  3.60000000e-01,  3.70000000e-01,\n",
       "                           3.80000000e-01,  3.90000000e-01,  4.00000000e-01,  4.10000000e-01,\n",
       "                           4.20000000e-01,  4.30000000e-01,  4.40000000e-01,  4.50000000e-01,\n",
       "                           4.60000000e-01,  4.70000000e-01,  4.80000000e-01,  4.90000000e-01,\n",
       "                           5.00000000e-01,  5.10000000e-01,  5.20000000e-01,  5.30000000e-01,\n",
       "                           5.40000000e-01,  5.50000000e-01,  5.60000000e-01,  5.70000000e-01,\n",
       "                           5.80000000e-01,  5.90000000e-01,  6.00000000e-01,  6.10000000e-01,\n",
       "                           6.20000000e-01,  6.30000000e-01,  6.40000000e-01,  6.50000000e-01,\n",
       "                           6.60000000e-01,  6.70000000e-01,  6.80000000e-01,  6.90000000e-01,\n",
       "                           7.00000000e-01,  7.10000000e-01,  7.20000000e-01,  7.30000000e-01,\n",
       "                           7.40000000e-01,  7.50000000e-01,  7.60000000e-01,  7.70000000e-01,\n",
       "                           7.80000000e-01,  7.90000000e-01,  8.00000000e-01,  8.10000000e-01,\n",
       "                           8.20000000e-01,  8.30000000e-01,  8.40000000e-01,  8.50000000e-01,\n",
       "                           8.60000000e-01,  8.70000000e-01,  8.80000000e-01,  8.90000000e-01,\n",
       "                           9.00000000e-01,  9.10000000e-01,  9.20000000e-01,  9.30000000e-01,\n",
       "                           9.40000000e-01,  9.50000000e-01,  9.60000000e-01,  9.70000000e-01,\n",
       "                           9.80000000e-01,  9.90000000e-01,  1.00000000e+00,  1.01000000e+00,\n",
       "                           1.02000000e+00,  1.03000000e+00,  1.04000000e+00,  1.05000000e+00,\n",
       "                           1.06000000e+00,  1.07000000e+00,  1.08000000e+00,  1.09000000e+00,\n",
       "                           1.10000000e+00]),\n",
       "              'y': array([-1.00000000e-01, -9.00000000e-02, -8.00000000e-02, -7.00000000e-02,\n",
       "                          -6.00000000e-02, -5.00000000e-02, -4.00000000e-02, -3.00000000e-02,\n",
       "                          -2.00000000e-02, -1.00000000e-02, -5.55111512e-17,  1.00000000e-02,\n",
       "                           2.00000000e-02,  3.00000000e-02,  4.00000000e-02,  5.00000000e-02,\n",
       "                           6.00000000e-02,  7.00000000e-02,  8.00000000e-02,  9.00000000e-02,\n",
       "                           1.00000000e-01,  1.10000000e-01,  1.20000000e-01,  1.30000000e-01,\n",
       "                           1.40000000e-01,  1.50000000e-01,  1.60000000e-01,  1.70000000e-01,\n",
       "                           1.80000000e-01,  1.90000000e-01,  2.00000000e-01,  2.10000000e-01,\n",
       "                           2.20000000e-01,  2.30000000e-01,  2.40000000e-01,  2.50000000e-01,\n",
       "                           2.60000000e-01,  2.70000000e-01,  2.80000000e-01,  2.90000000e-01,\n",
       "                           3.00000000e-01,  3.10000000e-01,  3.20000000e-01,  3.30000000e-01,\n",
       "                           3.40000000e-01,  3.50000000e-01,  3.60000000e-01,  3.70000000e-01,\n",
       "                           3.80000000e-01,  3.90000000e-01,  4.00000000e-01,  4.10000000e-01,\n",
       "                           4.20000000e-01,  4.30000000e-01,  4.40000000e-01,  4.50000000e-01,\n",
       "                           4.60000000e-01,  4.70000000e-01,  4.80000000e-01,  4.90000000e-01,\n",
       "                           5.00000000e-01,  5.10000000e-01,  5.20000000e-01,  5.30000000e-01,\n",
       "                           5.40000000e-01,  5.50000000e-01,  5.60000000e-01,  5.70000000e-01,\n",
       "                           5.80000000e-01,  5.90000000e-01,  6.00000000e-01,  6.10000000e-01,\n",
       "                           6.20000000e-01,  6.30000000e-01,  6.40000000e-01,  6.50000000e-01,\n",
       "                           6.60000000e-01,  6.70000000e-01,  6.80000000e-01,  6.90000000e-01,\n",
       "                           7.00000000e-01,  7.10000000e-01,  7.20000000e-01,  7.30000000e-01,\n",
       "                           7.40000000e-01,  7.50000000e-01,  7.60000000e-01,  7.70000000e-01,\n",
       "                           7.80000000e-01,  7.90000000e-01,  8.00000000e-01,  8.10000000e-01,\n",
       "                           8.20000000e-01,  8.30000000e-01,  8.40000000e-01,  8.50000000e-01,\n",
       "                           8.60000000e-01,  8.70000000e-01,  8.80000000e-01,  8.90000000e-01,\n",
       "                           9.00000000e-01,  9.10000000e-01,  9.20000000e-01,  9.30000000e-01,\n",
       "                           9.40000000e-01,  9.50000000e-01,  9.60000000e-01,  9.70000000e-01,\n",
       "                           9.80000000e-01,  9.90000000e-01,  1.00000000e+00,  1.01000000e+00,\n",
       "                           1.02000000e+00,  1.03000000e+00,  1.04000000e+00,  1.05000000e+00,\n",
       "                           1.06000000e+00,  1.07000000e+00,  1.08000000e+00,  1.09000000e+00,\n",
       "                           1.10000000e+00]),\n",
       "              'z': array([[0, 0, 0, ..., 0, 0, 0],\n",
       "                          [0, 0, 0, ..., 0, 0, 0],\n",
       "                          [0, 0, 0, ..., 0, 0, 0],\n",
       "                          ...,\n",
       "                          [0, 0, 0, ..., 1, 1, 1],\n",
       "                          [0, 0, 0, ..., 1, 1, 1],\n",
       "                          [0, 0, 0, ..., 1, 1, 1]])}],\n",
       "    'layout': {'template': '...', 'title': {'text': 'w=[0.93924385 0.71237389], b=-1'}}\n",
       "})"
      ]
     },
     "metadata": {},
     "output_type": "display_data"
    },
    {
     "name": "stdout",
     "output_type": "stream",
     "text": [
      "quit\n"
     ]
    }
   ],
   "source": [
    "p_xor = Perceptron(train_data, target_xor, fig=go.FigureWidget())\n",
    "p_xor.train( max_iters=500)"
   ]
  },
  {
   "cell_type": "code",
   "execution_count": 73,
   "id": "21815f38",
   "metadata": {},
   "outputs": [
    {
     "data": {
      "text/plain": [
       "layout.Title({\n",
       "    'text': 'w=[0.94421737 0.89499948], b=-1'\n",
       "})"
      ]
     },
     "execution_count": 73,
     "metadata": {},
     "output_type": "execute_result"
    }
   ],
   "source": [
    "p_xor.fig.layout.title"
   ]
  },
  {
   "cell_type": "markdown",
   "id": "780a0f64",
   "metadata": {},
   "source": [
    "## train AND function"
   ]
  },
  {
   "cell_type": "code",
   "execution_count": 109,
   "id": "8b6fcf38",
   "metadata": {},
   "outputs": [
    {
     "data": {
      "application/vnd.jupyter.widget-view+json": {
       "model_id": "ed590a3a4aff4c57876e0c23bbc64da3",
       "version_major": 2,
       "version_minor": 0
      },
      "text/plain": [
       "FigureWidget({\n",
       "    'data': [{'colorscale': [[0.0, 'gold'], [0.5, 'mediumturquoise'], [1.0,\n",
       "                             'lightsalmon']],\n",
       "              'type': 'contour',\n",
       "              'uid': '39f7a622-a98b-4890-98c1-1e99f94054d6',\n",
       "              'x': array([-1.00000000e-01, -9.00000000e-02, -8.00000000e-02, -7.00000000e-02,\n",
       "                          -6.00000000e-02, -5.00000000e-02, -4.00000000e-02, -3.00000000e-02,\n",
       "                          -2.00000000e-02, -1.00000000e-02, -5.55111512e-17,  1.00000000e-02,\n",
       "                           2.00000000e-02,  3.00000000e-02,  4.00000000e-02,  5.00000000e-02,\n",
       "                           6.00000000e-02,  7.00000000e-02,  8.00000000e-02,  9.00000000e-02,\n",
       "                           1.00000000e-01,  1.10000000e-01,  1.20000000e-01,  1.30000000e-01,\n",
       "                           1.40000000e-01,  1.50000000e-01,  1.60000000e-01,  1.70000000e-01,\n",
       "                           1.80000000e-01,  1.90000000e-01,  2.00000000e-01,  2.10000000e-01,\n",
       "                           2.20000000e-01,  2.30000000e-01,  2.40000000e-01,  2.50000000e-01,\n",
       "                           2.60000000e-01,  2.70000000e-01,  2.80000000e-01,  2.90000000e-01,\n",
       "                           3.00000000e-01,  3.10000000e-01,  3.20000000e-01,  3.30000000e-01,\n",
       "                           3.40000000e-01,  3.50000000e-01,  3.60000000e-01,  3.70000000e-01,\n",
       "                           3.80000000e-01,  3.90000000e-01,  4.00000000e-01,  4.10000000e-01,\n",
       "                           4.20000000e-01,  4.30000000e-01,  4.40000000e-01,  4.50000000e-01,\n",
       "                           4.60000000e-01,  4.70000000e-01,  4.80000000e-01,  4.90000000e-01,\n",
       "                           5.00000000e-01,  5.10000000e-01,  5.20000000e-01,  5.30000000e-01,\n",
       "                           5.40000000e-01,  5.50000000e-01,  5.60000000e-01,  5.70000000e-01,\n",
       "                           5.80000000e-01,  5.90000000e-01,  6.00000000e-01,  6.10000000e-01,\n",
       "                           6.20000000e-01,  6.30000000e-01,  6.40000000e-01,  6.50000000e-01,\n",
       "                           6.60000000e-01,  6.70000000e-01,  6.80000000e-01,  6.90000000e-01,\n",
       "                           7.00000000e-01,  7.10000000e-01,  7.20000000e-01,  7.30000000e-01,\n",
       "                           7.40000000e-01,  7.50000000e-01,  7.60000000e-01,  7.70000000e-01,\n",
       "                           7.80000000e-01,  7.90000000e-01,  8.00000000e-01,  8.10000000e-01,\n",
       "                           8.20000000e-01,  8.30000000e-01,  8.40000000e-01,  8.50000000e-01,\n",
       "                           8.60000000e-01,  8.70000000e-01,  8.80000000e-01,  8.90000000e-01,\n",
       "                           9.00000000e-01,  9.10000000e-01,  9.20000000e-01,  9.30000000e-01,\n",
       "                           9.40000000e-01,  9.50000000e-01,  9.60000000e-01,  9.70000000e-01,\n",
       "                           9.80000000e-01,  9.90000000e-01,  1.00000000e+00,  1.01000000e+00,\n",
       "                           1.02000000e+00,  1.03000000e+00,  1.04000000e+00,  1.05000000e+00,\n",
       "                           1.06000000e+00,  1.07000000e+00,  1.08000000e+00,  1.09000000e+00,\n",
       "                           1.10000000e+00]),\n",
       "              'y': array([-1.00000000e-01, -9.00000000e-02, -8.00000000e-02, -7.00000000e-02,\n",
       "                          -6.00000000e-02, -5.00000000e-02, -4.00000000e-02, -3.00000000e-02,\n",
       "                          -2.00000000e-02, -1.00000000e-02, -5.55111512e-17,  1.00000000e-02,\n",
       "                           2.00000000e-02,  3.00000000e-02,  4.00000000e-02,  5.00000000e-02,\n",
       "                           6.00000000e-02,  7.00000000e-02,  8.00000000e-02,  9.00000000e-02,\n",
       "                           1.00000000e-01,  1.10000000e-01,  1.20000000e-01,  1.30000000e-01,\n",
       "                           1.40000000e-01,  1.50000000e-01,  1.60000000e-01,  1.70000000e-01,\n",
       "                           1.80000000e-01,  1.90000000e-01,  2.00000000e-01,  2.10000000e-01,\n",
       "                           2.20000000e-01,  2.30000000e-01,  2.40000000e-01,  2.50000000e-01,\n",
       "                           2.60000000e-01,  2.70000000e-01,  2.80000000e-01,  2.90000000e-01,\n",
       "                           3.00000000e-01,  3.10000000e-01,  3.20000000e-01,  3.30000000e-01,\n",
       "                           3.40000000e-01,  3.50000000e-01,  3.60000000e-01,  3.70000000e-01,\n",
       "                           3.80000000e-01,  3.90000000e-01,  4.00000000e-01,  4.10000000e-01,\n",
       "                           4.20000000e-01,  4.30000000e-01,  4.40000000e-01,  4.50000000e-01,\n",
       "                           4.60000000e-01,  4.70000000e-01,  4.80000000e-01,  4.90000000e-01,\n",
       "                           5.00000000e-01,  5.10000000e-01,  5.20000000e-01,  5.30000000e-01,\n",
       "                           5.40000000e-01,  5.50000000e-01,  5.60000000e-01,  5.70000000e-01,\n",
       "                           5.80000000e-01,  5.90000000e-01,  6.00000000e-01,  6.10000000e-01,\n",
       "                           6.20000000e-01,  6.30000000e-01,  6.40000000e-01,  6.50000000e-01,\n",
       "                           6.60000000e-01,  6.70000000e-01,  6.80000000e-01,  6.90000000e-01,\n",
       "                           7.00000000e-01,  7.10000000e-01,  7.20000000e-01,  7.30000000e-01,\n",
       "                           7.40000000e-01,  7.50000000e-01,  7.60000000e-01,  7.70000000e-01,\n",
       "                           7.80000000e-01,  7.90000000e-01,  8.00000000e-01,  8.10000000e-01,\n",
       "                           8.20000000e-01,  8.30000000e-01,  8.40000000e-01,  8.50000000e-01,\n",
       "                           8.60000000e-01,  8.70000000e-01,  8.80000000e-01,  8.90000000e-01,\n",
       "                           9.00000000e-01,  9.10000000e-01,  9.20000000e-01,  9.30000000e-01,\n",
       "                           9.40000000e-01,  9.50000000e-01,  9.60000000e-01,  9.70000000e-01,\n",
       "                           9.80000000e-01,  9.90000000e-01,  1.00000000e+00,  1.01000000e+00,\n",
       "                           1.02000000e+00,  1.03000000e+00,  1.04000000e+00,  1.05000000e+00,\n",
       "                           1.06000000e+00,  1.07000000e+00,  1.08000000e+00,  1.09000000e+00,\n",
       "                           1.10000000e+00]),\n",
       "              'z': array([[0, 0, 0, ..., 0, 0, 0],\n",
       "                          [0, 0, 0, ..., 0, 0, 0],\n",
       "                          [0, 0, 0, ..., 0, 0, 0],\n",
       "                          ...,\n",
       "                          [0, 0, 0, ..., 0, 0, 0],\n",
       "                          [0, 0, 0, ..., 0, 0, 0],\n",
       "                          [0, 0, 0, ..., 0, 0, 0]])}],\n",
       "    'layout': {'template': '...', 'title': {'text': 'w=[0.15997906 0.29187772], b=-1'}}\n",
       "})"
      ]
     },
     "metadata": {},
     "output_type": "display_data"
    },
    {
     "name": "stdout",
     "output_type": "stream",
     "text": [
      "quit\n"
     ]
    }
   ],
   "source": [
    "p_nand = Perceptron(train_data, target_nand, fig=go.FigureWidget())\n",
    "p_nand.train( max_iters=500)"
   ]
  },
  {
   "cell_type": "markdown",
   "id": "cbd4694b",
   "metadata": {},
   "source": [
    "## train FIRST function"
   ]
  },
  {
   "cell_type": "code",
   "execution_count": 111,
   "id": "7b631b65",
   "metadata": {},
   "outputs": [
    {
     "data": {
      "application/vnd.jupyter.widget-view+json": {
       "model_id": "45ca526a14694d6da11280a91f59bf9a",
       "version_major": 2,
       "version_minor": 0
      },
      "text/plain": [
       "FigureWidget({\n",
       "    'data': [{'colorscale': [[0.0, 'gold'], [0.5, 'mediumturquoise'], [1.0,\n",
       "                             'lightsalmon']],\n",
       "              'type': 'contour',\n",
       "              'uid': 'fcb87849-d64e-45ea-b9b7-b790cd2edd53',\n",
       "              'x': array([-1.00000000e-01, -9.00000000e-02, -8.00000000e-02, -7.00000000e-02,\n",
       "                          -6.00000000e-02, -5.00000000e-02, -4.00000000e-02, -3.00000000e-02,\n",
       "                          -2.00000000e-02, -1.00000000e-02, -5.55111512e-17,  1.00000000e-02,\n",
       "                           2.00000000e-02,  3.00000000e-02,  4.00000000e-02,  5.00000000e-02,\n",
       "                           6.00000000e-02,  7.00000000e-02,  8.00000000e-02,  9.00000000e-02,\n",
       "                           1.00000000e-01,  1.10000000e-01,  1.20000000e-01,  1.30000000e-01,\n",
       "                           1.40000000e-01,  1.50000000e-01,  1.60000000e-01,  1.70000000e-01,\n",
       "                           1.80000000e-01,  1.90000000e-01,  2.00000000e-01,  2.10000000e-01,\n",
       "                           2.20000000e-01,  2.30000000e-01,  2.40000000e-01,  2.50000000e-01,\n",
       "                           2.60000000e-01,  2.70000000e-01,  2.80000000e-01,  2.90000000e-01,\n",
       "                           3.00000000e-01,  3.10000000e-01,  3.20000000e-01,  3.30000000e-01,\n",
       "                           3.40000000e-01,  3.50000000e-01,  3.60000000e-01,  3.70000000e-01,\n",
       "                           3.80000000e-01,  3.90000000e-01,  4.00000000e-01,  4.10000000e-01,\n",
       "                           4.20000000e-01,  4.30000000e-01,  4.40000000e-01,  4.50000000e-01,\n",
       "                           4.60000000e-01,  4.70000000e-01,  4.80000000e-01,  4.90000000e-01,\n",
       "                           5.00000000e-01,  5.10000000e-01,  5.20000000e-01,  5.30000000e-01,\n",
       "                           5.40000000e-01,  5.50000000e-01,  5.60000000e-01,  5.70000000e-01,\n",
       "                           5.80000000e-01,  5.90000000e-01,  6.00000000e-01,  6.10000000e-01,\n",
       "                           6.20000000e-01,  6.30000000e-01,  6.40000000e-01,  6.50000000e-01,\n",
       "                           6.60000000e-01,  6.70000000e-01,  6.80000000e-01,  6.90000000e-01,\n",
       "                           7.00000000e-01,  7.10000000e-01,  7.20000000e-01,  7.30000000e-01,\n",
       "                           7.40000000e-01,  7.50000000e-01,  7.60000000e-01,  7.70000000e-01,\n",
       "                           7.80000000e-01,  7.90000000e-01,  8.00000000e-01,  8.10000000e-01,\n",
       "                           8.20000000e-01,  8.30000000e-01,  8.40000000e-01,  8.50000000e-01,\n",
       "                           8.60000000e-01,  8.70000000e-01,  8.80000000e-01,  8.90000000e-01,\n",
       "                           9.00000000e-01,  9.10000000e-01,  9.20000000e-01,  9.30000000e-01,\n",
       "                           9.40000000e-01,  9.50000000e-01,  9.60000000e-01,  9.70000000e-01,\n",
       "                           9.80000000e-01,  9.90000000e-01,  1.00000000e+00,  1.01000000e+00,\n",
       "                           1.02000000e+00,  1.03000000e+00,  1.04000000e+00,  1.05000000e+00,\n",
       "                           1.06000000e+00,  1.07000000e+00,  1.08000000e+00,  1.09000000e+00,\n",
       "                           1.10000000e+00]),\n",
       "              'y': array([-1.00000000e-01, -9.00000000e-02, -8.00000000e-02, -7.00000000e-02,\n",
       "                          -6.00000000e-02, -5.00000000e-02, -4.00000000e-02, -3.00000000e-02,\n",
       "                          -2.00000000e-02, -1.00000000e-02, -5.55111512e-17,  1.00000000e-02,\n",
       "                           2.00000000e-02,  3.00000000e-02,  4.00000000e-02,  5.00000000e-02,\n",
       "                           6.00000000e-02,  7.00000000e-02,  8.00000000e-02,  9.00000000e-02,\n",
       "                           1.00000000e-01,  1.10000000e-01,  1.20000000e-01,  1.30000000e-01,\n",
       "                           1.40000000e-01,  1.50000000e-01,  1.60000000e-01,  1.70000000e-01,\n",
       "                           1.80000000e-01,  1.90000000e-01,  2.00000000e-01,  2.10000000e-01,\n",
       "                           2.20000000e-01,  2.30000000e-01,  2.40000000e-01,  2.50000000e-01,\n",
       "                           2.60000000e-01,  2.70000000e-01,  2.80000000e-01,  2.90000000e-01,\n",
       "                           3.00000000e-01,  3.10000000e-01,  3.20000000e-01,  3.30000000e-01,\n",
       "                           3.40000000e-01,  3.50000000e-01,  3.60000000e-01,  3.70000000e-01,\n",
       "                           3.80000000e-01,  3.90000000e-01,  4.00000000e-01,  4.10000000e-01,\n",
       "                           4.20000000e-01,  4.30000000e-01,  4.40000000e-01,  4.50000000e-01,\n",
       "                           4.60000000e-01,  4.70000000e-01,  4.80000000e-01,  4.90000000e-01,\n",
       "                           5.00000000e-01,  5.10000000e-01,  5.20000000e-01,  5.30000000e-01,\n",
       "                           5.40000000e-01,  5.50000000e-01,  5.60000000e-01,  5.70000000e-01,\n",
       "                           5.80000000e-01,  5.90000000e-01,  6.00000000e-01,  6.10000000e-01,\n",
       "                           6.20000000e-01,  6.30000000e-01,  6.40000000e-01,  6.50000000e-01,\n",
       "                           6.60000000e-01,  6.70000000e-01,  6.80000000e-01,  6.90000000e-01,\n",
       "                           7.00000000e-01,  7.10000000e-01,  7.20000000e-01,  7.30000000e-01,\n",
       "                           7.40000000e-01,  7.50000000e-01,  7.60000000e-01,  7.70000000e-01,\n",
       "                           7.80000000e-01,  7.90000000e-01,  8.00000000e-01,  8.10000000e-01,\n",
       "                           8.20000000e-01,  8.30000000e-01,  8.40000000e-01,  8.50000000e-01,\n",
       "                           8.60000000e-01,  8.70000000e-01,  8.80000000e-01,  8.90000000e-01,\n",
       "                           9.00000000e-01,  9.10000000e-01,  9.20000000e-01,  9.30000000e-01,\n",
       "                           9.40000000e-01,  9.50000000e-01,  9.60000000e-01,  9.70000000e-01,\n",
       "                           9.80000000e-01,  9.90000000e-01,  1.00000000e+00,  1.01000000e+00,\n",
       "                           1.02000000e+00,  1.03000000e+00,  1.04000000e+00,  1.05000000e+00,\n",
       "                           1.06000000e+00,  1.07000000e+00,  1.08000000e+00,  1.09000000e+00,\n",
       "                           1.10000000e+00]),\n",
       "              'z': array([[0, 0, 0, ..., 0, 0, 0],\n",
       "                          [0, 0, 0, ..., 0, 0, 0],\n",
       "                          [0, 0, 0, ..., 0, 0, 0],\n",
       "                          ...,\n",
       "                          [0, 0, 0, ..., 0, 0, 0],\n",
       "                          [0, 0, 0, ..., 0, 0, 0],\n",
       "                          [0, 0, 0, ..., 0, 0, 0]])}],\n",
       "    'layout': {'template': '...', 'title': {'text': 'w=[0.14742287 0.430434  ], b=-1'}}\n",
       "})"
      ]
     },
     "metadata": {},
     "output_type": "display_data"
    },
    {
     "name": "stdout",
     "output_type": "stream",
     "text": [
      "quit\n"
     ]
    }
   ],
   "source": [
    "p_first = Perceptron(train_data, target_first, fig=go.FigureWidget())\n",
    "p_first.train( max_iters=500)"
   ]
  },
  {
   "cell_type": "markdown",
   "id": "3aaf92de",
   "metadata": {},
   "source": [
    "# Bonus\n",
    "\n",
    "Interactive visualization"
   ]
  },
  {
   "cell_type": "markdown",
   "id": "0f14217b",
   "metadata": {},
   "source": [
    "## Updating graph in a loop"
   ]
  },
  {
   "cell_type": "code",
   "execution_count": 38,
   "id": "fc2bd068",
   "metadata": {},
   "outputs": [
    {
     "data": {
      "application/vnd.jupyter.widget-view+json": {
       "model_id": "e9b76bb8562347feaae5023b5d1a93c8",
       "version_major": 2,
       "version_minor": 0
      },
      "text/plain": [
       "FigureWidget({\n",
       "    'data': [{'type': 'scatter', 'uid': '01f3d440-892e-47b7-92fc-fa276fc79155', 'x': [1, 2, 3], 'y': [4, 5, 6]}],\n",
       "    'layout': {'template': '...'}\n",
       "})"
      ]
     },
     "metadata": {},
     "output_type": "display_data"
    },
    {
     "name": "stdout",
     "output_type": "stream",
     "text": [
      "0\n",
      "1\n",
      "2\n"
     ]
    }
   ],
   "source": [
    "\n",
    "figg = go.FigureWidget()\n",
    "\n",
    "# Add some traces\n",
    "figg.add_trace(go.Scatter(x=[1, 2, 3], y=[4, 5, 6]))\n",
    "display(figg)  # multiple calls will render multiple images! figg.show() won't animate\n",
    "\n",
    "# Update the traces in a loop\n",
    "for i in range(3):\n",
    "    with figg.batch_update():\n",
    "        figg.data[0].y = np.sin( (i + 1) * np.array(figg.data[0].x) )\n",
    "\n",
    "    time.sleep(2)\n",
    "    print(i)\n",
    "    "
   ]
  },
  {
   "cell_type": "markdown",
   "id": "1d59722e",
   "metadata": {},
   "source": [
    "## Use widget control to update params"
   ]
  },
  {
   "cell_type": "code",
   "execution_count": 41,
   "id": "3b8ccc0b",
   "metadata": {},
   "outputs": [
    {
     "data": {
      "application/vnd.jupyter.widget-view+json": {
       "model_id": "cd87d98fc02945e8a90e19b7d7afe14c",
       "version_major": 2,
       "version_minor": 0
      },
      "text/plain": [
       "FigureWidget({\n",
       "    'data': [{'type': 'scatter', 'uid': 'b823cf3e-2aec-4def-9cec-2d63db8b3aae', 'x': [1, 2, 3], 'y': [4, 5, 6]}],\n",
       "    'layout': {'template': '...'}\n",
       "})"
      ]
     },
     "metadata": {},
     "output_type": "display_data"
    }
   ],
   "source": [
    "from ipywidgets import interact\n",
    "\n",
    "fig3 = go.FigureWidget()\n",
    "\n",
    "fig3.add_trace(go.Scatter(x=[1, 2, 3], y=[4, 5, 6]))\n",
    "\n",
    "#scatt = fig.add_scatter()\n",
    "\n",
    "display(fig3)"
   ]
  },
  {
   "cell_type": "code",
   "execution_count": 46,
   "id": "bcf60d5c",
   "metadata": {},
   "outputs": [
    {
     "data": {
      "application/vnd.jupyter.widget-view+json": {
       "model_id": "3120568034a647cc9f8d2d6fd4f3c97a",
       "version_major": 2,
       "version_minor": 0
      },
      "text/plain": [
       "interactive(children=(FloatSlider(value=3.6, description='a', max=4.0, min=1.0, step=0.01), FloatSlider(value=…"
      ]
     },
     "metadata": {},
     "output_type": "display_data"
    }
   ],
   "source": [
    "xs=np.linspace(0, 6, 100)\n",
    "\n",
    "@interact(a=(1.0, 4.0, 0.01), b=(0, 10.0, 0.01), color=['red', 'green', 'blue'])\n",
    "def update(a=3.6, b=4.3, color='blue'):\n",
    "    with fig3.batch_update():\n",
    "        fig3.data[0].x=xs\n",
    "        fig3.data[0].y=np.sin(a*xs-b)\n",
    "        fig3.data[0].line.color=color"
   ]
  }
 ],
 "metadata": {
  "kernelspec": {
   "display_name": "Python 3 (ipykernel)",
   "language": "python",
   "name": "python3"
  },
  "language_info": {
   "codemirror_mode": {
    "name": "ipython",
    "version": 3
   },
   "file_extension": ".py",
   "mimetype": "text/x-python",
   "name": "python",
   "nbconvert_exporter": "python",
   "pygments_lexer": "ipython3",
   "version": "3.7.16"
  }
 },
 "nbformat": 4,
 "nbformat_minor": 5
}
