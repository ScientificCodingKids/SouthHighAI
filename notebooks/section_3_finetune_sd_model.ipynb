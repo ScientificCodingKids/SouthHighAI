{
 "cells": [
  {
   "cell_type": "markdown",
   "id": "2d061425",
   "metadata": {},
   "source": [
    "# Pokemon dataset"
   ]
  },
  {
   "cell_type": "code",
   "execution_count": 3,
   "id": "bb235fb5",
   "metadata": {},
   "outputs": [],
   "source": [
    "\n",
    "import pandas as pd\n",
    "import numpy as np\n",
    "import traceback as tb\n",
    "import time\n",
    "\n",
    "import plotly.graph_objects as go\n",
    "from ipywidgets import interact\n",
    "from PIL import Image, ImageFilter  # PIL is a popular image processing package \"pillow\""
   ]
  },
  {
   "cell_type": "markdown",
   "id": "59a08362",
   "metadata": {},
   "source": [
    "![Sample images](https://lambdalabs.com/hs-fs/hubfs/2.%20Images/Images%20-%20Blog%20Posts/2022%20-%20Blog%20Images/image--3-.png?width=1152&height=768&name=image--3-.png)"
   ]
  },
  {
   "cell_type": "code",
   "execution_count": 1,
   "id": "08c52310",
   "metadata": {},
   "outputs": [
    {
     "name": "stderr",
     "output_type": "stream",
     "text": [
      "Found cached dataset parquet (C:/Users/north/.cache/huggingface/datasets/lambdalabs___parquet/lambdalabs--pokemon-blip-captions-baa94796864cc987/0.0.0/14a00e99c0d15a23649d0db8944380ac81082d4b021f398733dd84f3a6c569a7)\n"
     ]
    }
   ],
   "source": [
    "from datasets import load_dataset\n",
    "ds = load_dataset(\"lambdalabs/pokemon-blip-captions\", split=\"train\")"
   ]
  },
  {
   "cell_type": "code",
   "execution_count": 4,
   "id": "cdec8118",
   "metadata": {},
   "outputs": [
    {
     "data": {
      "text/plain": [
       "['image', 'text']"
      ]
     },
     "execution_count": 4,
     "metadata": {},
     "output_type": "execute_result"
    }
   ],
   "source": [
    "ds.column_names"
   ]
  },
  {
   "cell_type": "code",
   "execution_count": 16,
   "id": "12df46c5",
   "metadata": {},
   "outputs": [
    {
     "data": {
      "text/plain": [
       "Dataset({\n",
       "    features: ['image', 'text'],\n",
       "    num_rows: 833\n",
       "})"
      ]
     },
     "execution_count": 16,
     "metadata": {},
     "output_type": "execute_result"
    }
   ],
   "source": [
    "ds"
   ]
  },
  {
   "cell_type": "code",
   "execution_count": 32,
   "id": "dab0a313",
   "metadata": {},
   "outputs": [
    {
     "data": {
      "application/vnd.jupyter.widget-view+json": {
       "model_id": "bb59c656ce0d46bd82ed2ee3a269bd1e",
       "version_major": 2,
       "version_minor": 0
      },
      "text/plain": [
       "interactive(children=(IntSlider(value=0, description='row_id', max=832), Output()), _dom_classes=('widget-inte…"
      ]
     },
     "metadata": {},
     "output_type": "display_data"
    },
    {
     "data": {
      "application/vnd.jupyter.widget-view+json": {
       "model_id": "d8035624c8c146c5a49aea2c9b59b213",
       "version_major": 2,
       "version_minor": 0
      },
      "text/plain": [
       "FigureWidget({\n",
       "    'data': [{'type': 'image',\n",
       "              'uid': '0fb4816e-68c7-491d-a5af-942cf522f390',\n",
       "   …"
      ]
     },
     "metadata": {},
     "output_type": "display_data"
    }
   ],
   "source": [
    "# below is slow updating\n",
    "from plotly.subplots import make_subplots\n",
    "\n",
    "#display(noisy_img)\n",
    "pokemon_widget = go.FigureWidget()\n",
    "pokemon_widget.add_trace(go.Image(z=np.array(ds[0][\"image\"])))\n",
    "\n",
    "@interact(row_id=(0, 832, 1), continuous_update=False)\n",
    "def show_sample(row_id=0):\n",
    "    sample = ds[row_id] # each sample consists of an image and a text description\n",
    "    img = sample[\"image\"]\n",
    "    with pokemon_widget.batch_update():\n",
    "        pokemon_widget.data[0].z=np.array(img)\n",
    "        pokemon_widget.update_xaxes(showticklabels=False)\n",
    "        pokemon_widget.update_yaxes(showticklabels=False)\n",
    "        pokemon_widget.layout.title = f\"{row_id}: {sample['text']}\"\n",
    "        \n",
    "display(pokemon_widget)"
   ]
  },
  {
   "cell_type": "code",
   "execution_count": 14,
   "id": "f1886bac",
   "metadata": {},
   "outputs": [
    {
     "data": {
      "text/plain": [
       "datasets.arrow_dataset.Dataset"
      ]
     },
     "execution_count": 14,
     "metadata": {},
     "output_type": "execute_result"
    }
   ],
   "source": [
    "type(ds)"
   ]
  },
  {
   "cell_type": "markdown",
   "id": "7b8dd440",
   "metadata": {},
   "source": [
    "# Dataset type\n",
    "\n",
    "Iteratable for image and text.\n"
   ]
  },
  {
   "cell_type": "markdown",
   "id": "8e8ee0f5",
   "metadata": {},
   "source": [
    "## a trivial example"
   ]
  },
  {
   "cell_type": "code",
   "execution_count": 4,
   "id": "d79097f8",
   "metadata": {},
   "outputs": [
    {
     "data": {
      "text/plain": [
       "Dataset({\n",
       "    features: ['image', 'text'],\n",
       "    num_rows: 100\n",
       "})"
      ]
     },
     "execution_count": 4,
     "metadata": {},
     "output_type": "execute_result"
    }
   ],
   "source": [
    "from datasets.arrow_dataset import Dataset\n",
    "N= 100 # number of data points\n",
    "img_tensor = np.zeros((N, 512, 512, 3))\n",
    "captions = []\n",
    "for i in range(N):\n",
    "    captions.append(f\"hello: {i}\")\n",
    "    \n",
    "captioned_imgs = {\n",
    "    \"image\": img_tensor,\n",
    "    \"text\": captions\n",
    "}\n",
    "#from datasets import Dataset\n",
    "out = Dataset.from_dict(captioned_imgs)\n",
    "\n",
    "out"
   ]
  },
  {
   "cell_type": "markdown",
   "id": "a8222bb1",
   "metadata": {},
   "source": [
    "## robot parts dataset\n",
    "\n",
    "YOU are in charge to create this!\n"
   ]
  },
  {
   "cell_type": "code",
   "execution_count": null,
   "id": "4b0db95b",
   "metadata": {},
   "outputs": [],
   "source": [
    "# suppose we store 5 images in d:\\dev\\ai\\SouthHighAI\\data\\VRCRobots folder and a single ImageText.txt there describes all images (1 image per line).\n",
    "# The images are obtained by Google \"VEX VRC Robot\". Their sizes vary and no guarantee they are 512x512 or even square.\n"
   ]
  },
  {
   "cell_type": "code",
   "execution_count": 5,
   "id": "fadbc0b9",
   "metadata": {},
   "outputs": [],
   "source": [
    "from datasets.arrow_dataset import Dataset\n",
    "n = 5\n",
    "vrc_folder = r\"d:\\dev\\ai\\SouthHighAI\\data\\VRCRobots\\\\\"\n",
    "\n",
    "with open(vrc_folder + \"ImageText.txt\", \"r\") as f:\n",
    "    lines = f.readlines()\n",
    "    \n",
    "image_caption_dic = {}\n",
    "\n",
    "for line in lines:\n",
    "    toks = line.split(\":\")\n",
    "    if len(toks) != 2:\n",
    "        raise ValueError(f\"ONLY TWO tokens allowed: {line}\")\n",
    "        \n",
    "    i = int(toks[0])\n",
    "    image_caption_dic[i] = toks[1]\n",
    "    \n",
    "vrc_img_tensor = np.zeros( (n, 512, 512, 3) )\n",
    "vrc_captions = image_caption_dic.values()\n",
    "\n",
    "for i in range(1, 6):\n",
    "    img = Image.open(vrc_folder + str(i) + \".png\")\n",
    "    img = img.resize((512, 512), Image.LANCZOS).convert(\"RGB\")\n",
    "    vrc_img_tensor[i-1] = img\n",
    "    "
   ]
  },
  {
   "cell_type": "code",
   "execution_count": 23,
   "id": "9d106d28",
   "metadata": {},
   "outputs": [
    {
     "data": {
      "text/plain": [
       "Dataset({\n",
       "    features: ['train'],\n",
       "    num_rows: 2\n",
       "})"
      ]
     },
     "execution_count": 23,
     "metadata": {},
     "output_type": "execute_result"
    }
   ],
   "source": [
    "\n",
    "vrc_captioned_imgs = {\"train\": {\n",
    "    \"image\": vrc_img_tensor,\n",
    "    \"text\": vrc_captions\n",
    "}\n",
    "                     }\n",
    "                     \n",
    "#from datasets import Dataset\n",
    "vrc_out = Dataset.from_dict(vrc_captioned_imgs)\n",
    "\n",
    "vrc_out"
   ]
  },
  {
   "cell_type": "code",
   "execution_count": 20,
   "id": "6cd5063a",
   "metadata": {},
   "outputs": [
    {
     "data": {
      "application/vnd.jupyter.widget-view+json": {
       "model_id": "4a06e87686c340aca6bf840bff402d17",
       "version_major": 2,
       "version_minor": 0
      },
      "text/plain": [
       "interactive(children=(IntSlider(value=0, description='row_id', max=4), Output()), _dom_classes=('widget-intera…"
      ]
     },
     "metadata": {},
     "output_type": "display_data"
    },
    {
     "data": {
      "application/vnd.jupyter.widget-view+json": {
       "model_id": "c72f542e6bd64b2a991f00ee9a8a8398",
       "version_major": 2,
       "version_minor": 0
      },
      "text/plain": [
       "FigureWidget({\n",
       "    'data': [{'type': 'image',\n",
       "              'uid': '58f45222-7e5f-4089-b22d-bbd6fb6dc0c0',\n",
       "   …"
      ]
     },
     "metadata": {},
     "output_type": "display_data"
    }
   ],
   "source": [
    "# below is slow updating\n",
    "from plotly.subplots import make_subplots\n",
    "\n",
    "#display(noisy_img)\n",
    "vrc_widget = go.FigureWidget()\n",
    "vrc_widget.add_trace(go.Image(z=np.array(vrc_out[0][\"image\"])))\n",
    "\n",
    "@interact(row_id=(0, 4, 1), continuous_update=False)\n",
    "def show_vrc_sample(row_id=0):\n",
    "    sample = vrc_out[row_id] # each sample consists of an image and a text description\n",
    "    img = sample[\"image\"]\n",
    "    with pokemon_widget.batch_update():\n",
    "        vrc_widget.data[0].z=np.array(img)\n",
    "        vrc_widget.update_xaxes(showticklabels=False)\n",
    "        vrc_widget.update_yaxes(showticklabels=False)\n",
    "        vrc_widget.layout.title = f\"{row_id}: {sample['text']}\"\n",
    "        \n",
    "display(vrc_widget)"
   ]
  },
  {
   "cell_type": "code",
   "execution_count": null,
   "id": "b75caa6b",
   "metadata": {},
   "outputs": [],
   "source": []
  },
  {
   "cell_type": "code",
   "execution_count": 24,
   "id": "4e9eafdc",
   "metadata": {},
   "outputs": [
    {
     "data": {
      "application/vnd.jupyter.widget-view+json": {
       "model_id": "",
       "version_major": 2,
       "version_minor": 0
      },
      "text/plain": [
       "Saving the dataset (0/1 shards):   0%|          | 0/2 [00:00<?, ? examples/s]"
      ]
     },
     "metadata": {},
     "output_type": "display_data"
    }
   ],
   "source": [
    "vrc_out.save_to_disk(vrc_folder + \"vrc_robot_data52\")"
   ]
  },
  {
   "cell_type": "code",
   "execution_count": 7,
   "id": "7fac762c",
   "metadata": {},
   "outputs": [],
   "source": [
    "vrc_in = Dataset.load_from_disk(vrc_folder + \"vrc_robot_data\")"
   ]
  },
  {
   "cell_type": "code",
   "execution_count": 8,
   "id": "b009110d",
   "metadata": {},
   "outputs": [
    {
     "data": {
      "text/plain": [
       "Dataset({\n",
       "    features: ['image', 'text'],\n",
       "    num_rows: 5\n",
       "})"
      ]
     },
     "execution_count": 8,
     "metadata": {},
     "output_type": "execute_result"
    }
   ],
   "source": [
    "vrc_in\n"
   ]
  },
  {
   "cell_type": "code",
   "execution_count": 16,
   "id": "a22c31e7",
   "metadata": {},
   "outputs": [
    {
     "name": "stderr",
     "output_type": "stream",
     "text": [
      "Found cached dataset imagefolder (C:/Users/north/.cache/huggingface/datasets/imagefolder/default-848ee14aa76757c6/0.0.0/37fbb85cc714a338bea574ac6c7d0b5be5aff46c1862c1989b20e0771199e93f)\n"
     ]
    }
   ],
   "source": [
    "from datasets import load_dataset\n",
    "vex_in = load_dataset(\"imagefolder\", data_dir=r\"d:\\dev\\ai\\SouthHighAI\\data\\VexRobots\", split=\"train\", )"
   ]
  },
  {
   "cell_type": "code",
   "execution_count": 18,
   "id": "3b630f70",
   "metadata": {},
   "outputs": [
    {
     "ename": "KeyError",
     "evalue": "'text'",
     "output_type": "error",
     "traceback": [
      "\u001b[1;31m---------------------------------------------------------------------------\u001b[0m",
      "\u001b[1;31mKeyError\u001b[0m                                  Traceback (most recent call last)",
      "\u001b[1;32m~\\AppData\\Local\\Temp\\ipykernel_1784\\3196584558.py\u001b[0m in \u001b[0;36m<module>\u001b[1;34m\u001b[0m\n\u001b[1;32m----> 1\u001b[1;33m \u001b[0mvex_in\u001b[0m\u001b[1;33m[\u001b[0m\u001b[1;36m0\u001b[0m\u001b[1;33m]\u001b[0m\u001b[1;33m[\u001b[0m\u001b[1;34m\"text\"\u001b[0m\u001b[1;33m]\u001b[0m\u001b[1;33m\u001b[0m\u001b[1;33m\u001b[0m\u001b[0m\n\u001b[0m",
      "\u001b[1;31mKeyError\u001b[0m: 'text'"
     ]
    }
   ],
   "source": [
    "vex_in[0][\"text\"]"
   ]
  },
  {
   "cell_type": "code",
   "execution_count": 27,
   "id": "1194f39e",
   "metadata": {},
   "outputs": [
    {
     "ename": "FileNotFoundError",
     "evalue": "No such files: 'd:\\dev\\ai\\SouthHighAI\\data\\VexRobots\\train\\dataset_info.json', nor 'd:\\dev\\ai\\SouthHighAI\\data\\VexRobots\\train\\state.json' found. Expected to load a `Dataset` object but provided path is not a `Dataset`.",
     "output_type": "error",
     "traceback": [
      "\u001b[1;31m---------------------------------------------------------------------------\u001b[0m",
      "\u001b[1;31mFileNotFoundError\u001b[0m                         Traceback (most recent call last)",
      "\u001b[1;32m~\\AppData\\Local\\Temp\\ipykernel_1784\\1690388392.py\u001b[0m in \u001b[0;36m<module>\u001b[1;34m\u001b[0m\n\u001b[1;32m----> 1\u001b[1;33m \u001b[0mvex_in2\u001b[0m \u001b[1;33m=\u001b[0m \u001b[0mDataset\u001b[0m\u001b[1;33m.\u001b[0m\u001b[0mload_from_disk\u001b[0m\u001b[1;33m(\u001b[0m\u001b[1;34mr\"d:\\dev\\ai\\SouthHighAI\\data\\VexRobots\\train\"\u001b[0m\u001b[1;33m)\u001b[0m\u001b[1;33m\u001b[0m\u001b[1;33m\u001b[0m\u001b[0m\n\u001b[0m",
      "\u001b[1;32m~\\.conda\\envs\\py37\\lib\\site-packages\\datasets\\arrow_dataset.py\u001b[0m in \u001b[0;36mload_from_disk\u001b[1;34m(dataset_path, fs, keep_in_memory, storage_options)\u001b[0m\n\u001b[0;32m   1661\u001b[0m                 )\n\u001b[0;32m   1662\u001b[0m             raise FileNotFoundError(\n\u001b[1;32m-> 1663\u001b[1;33m                 \u001b[1;34mf\"No such files: '{dataset_info_path}', nor '{dataset_state_json_path}' found. Expected to load a `Dataset` object but provided path is not a `Dataset`.\"\u001b[0m\u001b[1;33m\u001b[0m\u001b[1;33m\u001b[0m\u001b[0m\n\u001b[0m\u001b[0;32m   1664\u001b[0m             )\n\u001b[0;32m   1665\u001b[0m         \u001b[1;32mif\u001b[0m \u001b[1;32mnot\u001b[0m \u001b[0mdataset_info_is_file\u001b[0m\u001b[1;33m:\u001b[0m\u001b[1;33m\u001b[0m\u001b[1;33m\u001b[0m\u001b[0m\n",
      "\u001b[1;31mFileNotFoundError\u001b[0m: No such files: 'd:\\dev\\ai\\SouthHighAI\\data\\VexRobots\\train\\dataset_info.json', nor 'd:\\dev\\ai\\SouthHighAI\\data\\VexRobots\\train\\state.json' found. Expected to load a `Dataset` object but provided path is not a `Dataset`."
     ]
    }
   ],
   "source": [
    "vex_in2 = Dataset.load_from_disk(r\"d:\\dev\\ai\\SouthHighAI\\data\\VexRobots\\train\")"
   ]
  }
 ],
 "metadata": {
  "kernelspec": {
   "display_name": "Python 3 (ipykernel)",
   "language": "python",
   "name": "python3"
  },
  "language_info": {
   "codemirror_mode": {
    "name": "ipython",
    "version": 3
   },
   "file_extension": ".py",
   "mimetype": "text/x-python",
   "name": "python",
   "nbconvert_exporter": "python",
   "pygments_lexer": "ipython3",
   "version": "3.7.13"
  }
 },
 "nbformat": 4,
 "nbformat_minor": 5
}
